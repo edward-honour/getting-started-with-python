{
  "nbformat": 4,
  "nbformat_minor": 0,
  "metadata": {
    "colab": {
      "provenance": [],
      "authorship_tag": "ABX9TyNHj0fMCoOclXfZaCGPO6DP",
      "include_colab_link": true
    },
    "kernelspec": {
      "name": "python3",
      "display_name": "Python 3"
    },
    "language_info": {
      "name": "python"
    }
  },
  "cells": [
    {
      "cell_type": "markdown",
      "metadata": {
        "id": "view-in-github",
        "colab_type": "text"
      },
      "source": [
        "<a href=\"https://colab.research.google.com/github/edward-honour/getting-started-with-python/blob/main/python_getting_started.ipynb\" target=\"_parent\"><img src=\"https://colab.research.google.com/assets/colab-badge.svg\" alt=\"Open In Colab\"/></a>"
      ]
    },
    {
      "cell_type": "code",
      "execution_count": null,
      "metadata": {
        "id": "gbBryhF6Ooz-"
      },
      "outputs": [],
      "source": []
    },
    {
      "cell_type": "markdown",
      "source": [
        "# Introduction to Python\n",
        "\n",
        "# 1. Variables and Data Types\n",
        "# Assigning values to variables"
      ],
      "metadata": {
        "id": "mtMgZrFPOskp"
      }
    },
    {
      "cell_type": "code",
      "source": [
        "name = \"John Doe\"\n",
        "age = 30\n",
        "height = 1.75\n",
        "is_student = False"
      ],
      "metadata": {
        "id": "oNiY6cGVOvAe"
      },
      "execution_count": null,
      "outputs": []
    },
    {
      "cell_type": "code",
      "source": [
        "# Printing variables and their types\n",
        "print(\"Name:\", name, type(name))\n",
        "print(\"Age:\", age, type(age))\n",
        "print(\"Height:\", height, type(height))\n",
        "print(\"Is student:\", is_student, type(is_student))"
      ],
      "metadata": {
        "id": "RvsLaoYWO6i-"
      },
      "execution_count": null,
      "outputs": []
    },
    {
      "cell_type": "code",
      "source": [
        "# 2. Operators\n",
        "# Arithmetic operators\n",
        "num1 = 10\n",
        "num2 = 3\n",
        "print(\"Addition:\", num1 + num2)\n",
        "print(\"Subtraction:\", num1 - num2)\n",
        "print(\"Multiplication:\", num1 * num2)\n",
        "print(\"Division:\", num1 / num2)\n",
        "print(\"Floor Division:\", num1 // num2)\n",
        "print(\"Modulus:\", num1 % num2)\n",
        "print(\"Exponentiation:\", num1 ** num2)"
      ],
      "metadata": {
        "id": "clBtHqRqO7N2"
      },
      "execution_count": null,
      "outputs": []
    },
    {
      "cell_type": "markdown",
      "source": [],
      "metadata": {
        "id": "Lt9qrYLrO3Xo"
      }
    },
    {
      "cell_type": "code",
      "source": [
        "# 3. Control Flow\n",
        "# If-else statement\n",
        "age = 20\n",
        "if age >= 18:\n",
        "    print(\"Adult\")\n",
        "else:\n",
        "    print(\"Minor\")"
      ],
      "metadata": {
        "id": "qlpgwJR-PAAo"
      },
      "execution_count": null,
      "outputs": []
    },
    {
      "cell_type": "code",
      "source": [
        "fruits = [\"apple\", \"banana\", \"cherry\"]\n",
        "for fruit in fruits:\n",
        "    print(fruit)"
      ],
      "metadata": {
        "id": "zy3XAQk6PIJF"
      },
      "execution_count": null,
      "outputs": []
    },
    {
      "cell_type": "code",
      "source": [
        "# While loop\n",
        "count = 0\n",
        "while count < 5:\n",
        "    print(\"Count:\", count)\n",
        "    count += 1"
      ],
      "metadata": {
        "id": "hsXeyu-DPMWg"
      },
      "execution_count": null,
      "outputs": []
    },
    {
      "cell_type": "code",
      "source": [
        "# 4. Functions\n",
        "# Defining a function\n",
        "def greet(name):\n",
        "    \"\"\"This function greets the person passed in as a parameter.\"\"\"\n",
        "    print(\"Hello, \" + name + \"!\")"
      ],
      "metadata": {
        "id": "ZXaNlY54PQoU"
      },
      "execution_count": null,
      "outputs": []
    },
    {
      "cell_type": "code",
      "source": [
        "# Calling the function\n",
        "greet(\"Alice\")"
      ],
      "metadata": {
        "id": "O9cK21QLPT4V"
      },
      "execution_count": null,
      "outputs": []
    },
    {
      "cell_type": "code",
      "source": [
        "# 5. Lists\n",
        "# Creating and accessing a list\n",
        "my_list = [1, 2, 3, \"a\", \"b\"]\n",
        "print(\"List:\", my_list)\n",
        "print(\"First element:\", my_list[0])\n",
        "print(\"Last element:\", my_list[-1])"
      ],
      "metadata": {
        "id": "K3JKsTN7PWzX"
      },
      "execution_count": null,
      "outputs": []
    },
    {
      "cell_type": "code",
      "source": [
        "# Modifying a list\n",
        "my_list.append(\"c\")\n",
        "print(\"Appended list:\", my_list)\n",
        "my_list.insert(2, \"new\")\n",
        "print(\"Inserted list:\", my_list)\n",
        "my_list.remove(1)\n",
        "print(\"Removed list:\", my_list)"
      ],
      "metadata": {
        "id": "dU3_xnPQPmQD"
      },
      "execution_count": null,
      "outputs": []
    },
    {
      "cell_type": "code",
      "source": [
        "# 6. Dictionaries\n",
        "# Creating and accessing a dictionary\n",
        "my_dict = {\"name\": \"John\", \"age\": 30, \"city\": \"New York\"}\n",
        "print(\"Dictionary:\", my_dict)\n",
        "print(\"Name:\", my_dict[\"name\"])"
      ],
      "metadata": {
        "id": "Sz88X5RzPpv-"
      },
      "execution_count": null,
      "outputs": []
    },
    {
      "cell_type": "code",
      "source": [
        "# Modifying a dictionary\n",
        "my_dict[\"age\"] = 31\n",
        "print(\"Modified dictionary:\", my_dict)\n",
        "my_dict[\"job\"] = \"Engineer\"\n",
        "print(\"Added key-value pair:\", my_dict)\n",
        "del my_dict[\"city\"]\n",
        "print(\"Deleted key-value pair:\", my_dict)"
      ],
      "metadata": {
        "id": "OMcGuwAkPwye"
      },
      "execution_count": null,
      "outputs": []
    }
  ]
}